{
 "cells": [
  {
   "cell_type": "code",
   "execution_count": 6,
   "id": "e83d6105-af73-4e10-99d1-9cb78776c307",
   "metadata": {},
   "outputs": [],
   "source": [
    "import pandas as pd\n",
    "import numpy as np\n",
    "\n",
    "import os # 경로 합치기 위한 라이브러리\n",
    "import glob as glob # jpg파일 찾기 위한 라이브러리\n",
    "import cv2 # 이미지를 위한 라이브러리"
   ]
  },
  {
   "cell_type": "markdown",
   "id": "e40883c4-1a63-4d7c-946b-27a716f5bea7",
   "metadata": {},
   "source": [
    "#### 폴더 생성 함수"
   ]
  },
  {
   "cell_type": "markdown",
   "id": "e1ace6d9-08cd-423e-b86a-2c15b0764459",
   "metadata": {},
   "source": [
    "<span style=\"font-size:13px\">- directory : 폴서 생성할 경로 </span>"
   ]
  },
  {
   "cell_type": "code",
   "execution_count": 2,
   "id": "5f33bb37-a56e-4579-9da8-7214c6d94a8f",
   "metadata": {},
   "outputs": [],
   "source": [
    "def createFolder(directory): \n",
    "    try: \n",
    "        if not os.path.exists(directory): \n",
    "            os.makedirs(directory) \n",
    "    except OSError: \n",
    "        print ('Error: Creating directory. ' + directory)"
   ]
  },
  {
   "cell_type": "markdown",
   "id": "26f5b457-26a1-498e-9871-b4d7fbc1f867",
   "metadata": {},
   "source": [
    "#### 이미지 리스트에 담는 함수"
   ]
  },
  {
   "cell_type": "markdown",
   "id": "cabc4ebe-ca3a-469c-9394-6f169d84a3a7",
   "metadata": {},
   "source": [
    "<span style=\"font-size:13px\">- trainingFullPath : 상세분류 폴더 상위 경로 </span>  \n",
    "<span style=\"font-size:13px\">- IMG_SIZE : 수정할 이미지 size </span>"
   ]
  },
  {
   "cell_type": "code",
   "execution_count": 10,
   "id": "5a579361-850d-4e04-a0bc-6c80d7901ebf",
   "metadata": {},
   "outputs": [],
   "source": [
    "def inImgList(trainingFullPath, IMG_SIZE):\n",
    "    imageList = []\n",
    "    labelList = []\n",
    "    for i in range (0, len(targetFolder)):\n",
    "            print(targetFolder[i] + \" start\")\n",
    "\n",
    "            eachPath = os.path.join(trainingFullPath, targetFolder[i])\n",
    "            eachImages = os.listdir(eachPath)\n",
    "            for j in range( 0 , len(eachImages)):\n",
    "                try:\n",
    "                    eachImagesPath = os.path.join(eachPath,eachImages[j])\n",
    "                    eachImg = cv2.imread(eachImagesPath)\n",
    "                    eachImg = cv2.cvtColor(eachImg, cv2.COLOR_RGB2GRAY)\n",
    "                    outImg = cv2.resize(eachImg, (IMG_SIZE,IMG_SIZE))\n",
    "                    imageList.append(outImg)\n",
    "                    labelList.append(targetFolder[i])\n",
    "                except Exception as e:\n",
    "                    print(e)\n",
    "                    pass\n",
    "\n",
    "    totalList.append(imageList)\n",
    "    totalList.append(labelList)\n",
    "    \n",
    "    return totalList"
   ]
  },
  {
   "cell_type": "markdown",
   "id": "83c9aadc-a0db-493c-9002-b544a26c058e",
   "metadata": {},
   "source": [
    "#### 이미지 정제 함수"
   ]
  },
  {
   "cell_type": "markdown",
   "id": "95dad0a1-c259-490f-8796-354204f3eef1",
   "metadata": {},
   "source": [
    "<span style=\"font-size:13px\">- inImg : 이미지 경로 </span>  \n",
    "<span style=\"font-size:13px\">- IMG_SIZE : 수정할 이미지 size </span>  \n",
    "<span style=\"font-size:13px\">- channel : 이미지 채널 </span>  "
   ]
  },
  {
   "cell_type": "code",
   "execution_count": 6,
   "id": "9c654c3f-e0b4-4b20-a2fc-d31315b4f754",
   "metadata": {},
   "outputs": [],
   "source": [
    "def imgClean(inImg, IMG_SIZE, channel) :\n",
    "    outImg = cv2.cvtColor(inImg, cv2.COLOR_BGR2GRAY)\n",
    "    outImg = cv2.resize(outImg, (IMG_SIZE, IMG_SIZE))\n",
    "    outImg = outImg/255\n",
    "    outImg = outImg.reshape(channel, IMG_SIZE, IMG_SIZE)\n",
    "    return outImg"
   ]
  },
  {
   "cell_type": "markdown",
   "id": "2be26e63-3a04-403e-bbdd-3269e86ce123",
   "metadata": {},
   "source": [
    "#### 딕셔너라 value값으로 key값 불러오는 함수"
   ]
  },
  {
   "cell_type": "markdown",
   "id": "2e22d597-163b-4932-963c-162c8dfabde1",
   "metadata": {},
   "source": [
    "<span style=\"font-size:13px\">- dictionary : 딕셔너리 값 </span>  \n",
    "<span style=\"font-size:13px\">- val : 예측된 값 </span>  "
   ]
  },
  {
   "cell_type": "code",
   "execution_count": 9,
   "id": "4d7a24a6-483d-48c5-9d9c-accaacc46968",
   "metadata": {},
   "outputs": [],
   "source": [
    "def getEmotion(dictionary, val):\n",
    "    for key, value in dictionary.items():\n",
    "         if val == value:\n",
    "             return key"
   ]
  },
  {
   "cell_type": "code",
   "execution_count": null,
   "id": "bea5feb1-a525-49ec-881e-a63dfd463c61",
   "metadata": {},
   "outputs": [],
   "source": []
  }
 ],
 "metadata": {
  "kernelspec": {
   "display_name": "Python 3 (ipykernel)",
   "language": "python",
   "name": "python3"
  },
  "language_info": {
   "codemirror_mode": {
    "name": "ipython",
    "version": 3
   },
   "file_extension": ".py",
   "mimetype": "text/x-python",
   "name": "python",
   "nbconvert_exporter": "python",
   "pygments_lexer": "ipython3",
   "version": "3.9.7"
  }
 },
 "nbformat": 4,
 "nbformat_minor": 5
}
