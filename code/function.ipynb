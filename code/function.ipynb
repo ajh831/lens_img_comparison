{
 "cells": [
  {
   "cell_type": "code",
   "execution_count": 6,
   "id": "e83d6105-af73-4e10-99d1-9cb78776c307",
   "metadata": {},
   "outputs": [],
   "source": [
    "import pandas as pd\n",
    "import numpy as np\n",
    "\n",
    "import os # 경로 합치기 위한 라이브러리\n",
    "import glob as glob # jpg파일 찾기 위한 라이브러리\n",
    "import cv2 # 이미지를 위한 라이브러리"
   ]
  },
  {
   "cell_type": "markdown",
   "id": "e40883c4-1a63-4d7c-946b-27a716f5bea7",
   "metadata": {},
   "source": [
    "#### 폴더 생성 함수"
   ]
  },
  {
   "cell_type": "markdown",
   "id": "e1ace6d9-08cd-423e-b86a-2c15b0764459",
   "metadata": {},
   "source": [
    "<span style=\"font-size:13px\">- directory : 폴서 생성할 경로 </span>"
   ]
  },
  {
   "cell_type": "code",
   "execution_count": 2,
   "id": "5f33bb37-a56e-4579-9da8-7214c6d94a8f",
   "metadata": {},
   "outputs": [],
   "source": [
    "def createFolder(directory): \n",
    "    try: \n",
    "        if not os.path.exists(directory): \n",
    "            os.makedirs(directory) \n",
    "    except OSError: \n",
    "        print ('Error: Creating directory. ' + directory)"
   ]
  },
  {
   "cell_type": "markdown",
   "id": "26f5b457-26a1-498e-9871-b4d7fbc1f867",
   "metadata": {},
   "source": [
    "#### 이미지 리스트에 담는 함수"
   ]
  },
  {
   "cell_type": "markdown",
   "id": "cabc4ebe-ca3a-469c-9394-6f169d84a3a7",
   "metadata": {},
   "source": [
    "<span style=\"font-size:13px\">- totalList : 비어있는 리스트를 생성해 줘야 됨(imageList와 labelList를 담아주고 return 시키기 위해서) </span> <br>  \n",
    "<span style=\"font-size:13px\">- trainingFullPath : 상세분류 폴더 상위 경로 </span>  \n",
    "<span style=\"font-size:13px\">- IMG_SIZE : 수정할 이미지 size </span>"
   ]
  },
  {
   "cell_type": "code",
   "execution_count": 20,
   "id": "6ba6a68e-90df-4d90-a98b-d6bdbcfedf68",
   "metadata": {},
   "outputs": [],
   "source": [
    "def inImgList(trainingFullPath, targetFolder, IMG_SIZE, totalList):\n",
    "    imageList = []\n",
    "    labelList = []\n",
    "    for i in range (0, len(targetFolder)):\n",
    "            print(targetFolder[i] + \" start\")\n",
    "\n",
    "            eachPath = os.path.join(trainingFullPath, targetFolder[i])\n",
    "            eachImages = os.listdir(eachPath)\n",
    "            for j in range( 0 , len(eachImages)):\n",
    "                try:\n",
    "                    eachImagesPath = os.path.join(eachPath,eachImages[j])\n",
    "                    eachImg = imread(eachImagesPath)\n",
    "                    outImg = cv2.resize(eachImg, (IMG_SIZE,IMG_SIZE))\n",
    "                    imageList.append(outImg)\n",
    "                    labelList.append(targetFolder[i])\n",
    "                except Exception as e:\n",
    "                    print(e)\n",
    "                    pass\n",
    "\n",
    "    totalList.append(imageList)\n",
    "    totalList.append(labelList)\n",
    "    \n",
    "    return totalList"
   ]
  },
  {
   "cell_type": "markdown",
   "id": "83c9aadc-a0db-493c-9002-b544a26c058e",
   "metadata": {},
   "source": [
    "#### 이미지 정제 함수"
   ]
  },
  {
   "cell_type": "markdown",
   "id": "95dad0a1-c259-490f-8796-354204f3eef1",
   "metadata": {},
   "source": [
    "<span style=\"font-size:13px\">- inImg : 이미지 경로 </span>  \n",
    "<span style=\"font-size:13px\">- IMG_SIZE : 수정할 이미지 size </span>  \n",
    "<span style=\"font-size:13px\">- channel : 이미지 채널 </span>  "
   ]
  },
  {
   "cell_type": "code",
   "execution_count": 6,
   "id": "9c654c3f-e0b4-4b20-a2fc-d31315b4f754",
   "metadata": {},
   "outputs": [],
   "source": [
    "def imgClean(inImg, IMG_SIZE, channel) :\n",
    "    outImg = cv2.cvtColor(inImg, cv2.COLOR_BGR2GRAY)\n",
    "    outImg = cv2.resize(outImg, (IMG_SIZE, IMG_SIZE))\n",
    "    outImg = outImg/255\n",
    "    outImg = outImg.reshape(channel, IMG_SIZE, IMG_SIZE)\n",
    "    return outImg"
   ]
  },
  {
   "cell_type": "markdown",
   "id": "2be26e63-3a04-403e-bbdd-3269e86ce123",
   "metadata": {},
   "source": [
    "#### 딕셔너리 value값으로 key값 불러오는 함수"
   ]
  },
  {
   "cell_type": "markdown",
   "id": "2e22d597-163b-4932-963c-162c8dfabde1",
   "metadata": {},
   "source": [
    "<span style=\"font-size:13px\">- dictionary : 딕셔너리 값 </span>  \n",
    "<span style=\"font-size:13px\">- val : 예측된 값 </span>  "
   ]
  },
  {
   "cell_type": "code",
   "execution_count": 11,
   "id": "4d7a24a6-483d-48c5-9d9c-accaacc46968",
   "metadata": {},
   "outputs": [],
   "source": [
    "def getKey(dictionary, val):\n",
    "    for key, value in dictionary.items():\n",
    "         if val == value:\n",
    "            return key"
   ]
  },
  {
   "cell_type": "markdown",
   "id": "4373f815-5768-4868-a063-d91724943341",
   "metadata": {},
   "source": [
    "### 한글명 이미지 읽어오기"
   ]
  },
  {
   "cell_type": "markdown",
   "id": "0af9c97d-5c8c-47e2-b1b6-672a09a2e4b2",
   "metadata": {},
   "source": [
    "<span style=\"font-size:13px\">- filename : 파일명 </span>\n",
    "<span style=\"font-size:13px\">- flags : 기본값 컬러 </span>   \n",
    "<span style=\"font-size:13px\">- dtype : 기본값 데이터 타입 uint8 </span>  "
   ]
  },
  {
   "cell_type": "code",
   "execution_count": 14,
   "id": "49d459b8-ddc6-44ed-acea-123d09c9bfa8",
   "metadata": {},
   "outputs": [],
   "source": [
    "def imread(filename, flags=cv2.IMREAD_COLOR, dtype=np.uint8):\n",
    "    try:\n",
    "        n = np.fromfile(filename, dtype)\n",
    "        img = cv2.imdecode(n, flags)\n",
    "        return img\n",
    "    except Exception as e:\n",
    "        print(e)\n",
    "        return None"
   ]
  },
  {
   "cell_type": "markdown",
   "id": "5e29771f-1233-4697-a004-0d15b4317eb9",
   "metadata": {},
   "source": [
    "### 한글명 이미지 저장하기"
   ]
  },
  {
   "cell_type": "markdown",
   "id": "bb799b95-5955-44f0-92d6-13e73b0b4ec8",
   "metadata": {},
   "source": [
    "<span style=\"font-size:13px\">- filename : 파일명 </span>  \n",
    "<span style=\"font-size:13px\">- img : 이미지 </span>  \n",
    "<span style=\"font-size:13px\">- params : 기본값 None </span>  "
   ]
  },
  {
   "cell_type": "code",
   "execution_count": 24,
   "id": "b3b69897-d82d-4ab3-99bc-01ff6b16e3f5",
   "metadata": {},
   "outputs": [],
   "source": [
    "def imwrite(filename, img, params=None):\n",
    "    try:\n",
    "        ext = os.path.splitext(filename)[1]\n",
    "        result, n = cv2.imencode(ext, img, params)\n",
    "\n",
    "        if result:\n",
    "            with open(filename, mode='w+b') as f:\n",
    "                n.tofile(f)\n",
    "            return True\n",
    "        else:\n",
    "            return False\n",
    "    except Exception as e:\n",
    "        print(e)\n",
    "        return False"
   ]
  },
  {
   "cell_type": "code",
   "execution_count": null,
   "id": "27043b3c-298c-48f2-a61a-9fbdcec67560",
   "metadata": {},
   "outputs": [],
   "source": []
  }
 ],
 "metadata": {
  "kernelspec": {
   "display_name": "Python 3 (ipykernel)",
   "language": "python",
   "name": "python3"
  },
  "language_info": {
   "codemirror_mode": {
    "name": "ipython",
    "version": 3
   },
   "file_extension": ".py",
   "mimetype": "text/x-python",
   "name": "python",
   "nbconvert_exporter": "python",
   "pygments_lexer": "ipython3",
   "version": "3.9.7"
  }
 },
 "nbformat": 4,
 "nbformat_minor": 5
}
