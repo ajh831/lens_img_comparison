{
 "cells": [
  {
   "cell_type": "markdown",
   "id": "c3fd5290-0d66-4298-b834-35579d90aae7",
   "metadata": {},
   "source": [
    "### <b> 해야할 일 순서 정리 </b>\n",
    "##### <b> <전처리> </b>\n",
    "    step1. 각 폴더별 1차가공, 2차가공 이미지 분류  \n",
    "    step2. 분류한 이미지 1차, 2차 폴더 따로 생성하여 저장하기  \n",
    "        * 우선 명확하게 구분되는 거같은 dataSet만 활용(3, 8)\n",
    "    step3. 필요 함수 생성  \n",
    "        * 이미지 리스트에 담는 함수  \n",
    "        * 이미지 경로로 불러온뒤 정제해주는 함수  \n",
    "        * 숫자로 예측된 것을 다시 1차, 2차가공 str로 나눠주는 딕셔너리 key, value 함수  \n",
    "        * 등등\n",
    "#####  <b>   <모델 개발> </b>\n",
    "    라이브러리 불러오기  \n",
    "    이미지 데이터 불러오기  \n",
    "    이미지 데이터 pickle로 저장  \n",
    "    step1. 타입통합 / 특성 숫자 컬럼 추가  \n",
    "    step2. 데이터 분리  \n",
    "        * 이미지 정규화  \n",
    "        * 라벨링 & 원핫 인코딩  \n",
    "    step3. 모델 생성  \n",
    "    step4. 모델 컴파일  \n",
    "    step5. 모델 훈련  \n",
    "    step6. 모델 예측  \n",
    "    step7. 모델 구조 저장  \n",
    "#####  <b>   <웹캠 연동> </b>\n",
    "    step1. 라이브러리 불러오기  \n",
    "    step2. 모델 불러오기(모델 구조 & 가중치)  \n",
    "    step3. 웹 캠연동  "
   ]
  },
  {
   "cell_type": "code",
   "execution_count": null,
   "id": "366987b8-ab9b-4822-86f0-d4c886f96bc9",
   "metadata": {},
   "outputs": [],
   "source": []
  }
 ],
 "metadata": {
  "kernelspec": {
   "display_name": "Python 3 (ipykernel)",
   "language": "python",
   "name": "python3"
  },
  "language_info": {
   "codemirror_mode": {
    "name": "ipython",
    "version": 3
   },
   "file_extension": ".py",
   "mimetype": "text/x-python",
   "name": "python",
   "nbconvert_exporter": "python",
   "pygments_lexer": "ipython3",
   "version": "3.9.7"
  }
 },
 "nbformat": 4,
 "nbformat_minor": 5
}
