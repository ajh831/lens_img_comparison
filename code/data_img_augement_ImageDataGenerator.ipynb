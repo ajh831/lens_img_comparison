{
 "cells": [
  {
   "cell_type": "markdown",
   "id": "43d3bc39-d875-40d2-9305-24e77008e15b",
   "metadata": {},
   "source": [
    "https://www.tensorflow.org/api_docs/python/tf/keras/preprocessing/image/ImageDataGenerator"
   ]
  },
  {
   "cell_type": "code",
   "execution_count": 1,
   "id": "1b8e27c6-a2ff-4f1a-8701-be72eb8f5bca",
   "metadata": {},
   "outputs": [],
   "source": [
    "import os"
   ]
  },
  {
   "cell_type": "code",
   "execution_count": 2,
   "id": "ab6d0d95-a025-44a2-8f10-a0080199d733",
   "metadata": {},
   "outputs": [],
   "source": [
    "from glob import glob"
   ]
  },
  {
   "cell_type": "code",
   "execution_count": 3,
   "id": "a823af86-a86e-42e6-9dc1-833b19abca2e",
   "metadata": {},
   "outputs": [],
   "source": [
    "from keras.preprocessing.image import ImageDataGenerator\n",
    "from keras.preprocessing.image import array_to_img, img_to_array, load_img\n",
    "\n",
    "datagen = ImageDataGenerator(\n",
    "    featurewise_center=True,\n",
    "    featurewise_std_normalization=True,\n",
    "    rotation_range=20,\n",
    "    width_shift_range=0.2,\n",
    "    height_shift_range=0.2,\n",
    "    horizontal_flip=True,\n",
    "    validation_split=0.2,\n",
    "    fill_mode=\"constant\")"
   ]
  },
  {
   "cell_type": "code",
   "execution_count": 4,
   "id": "8378f479-81d4-4bb6-823e-2858737af858",
   "metadata": {},
   "outputs": [],
   "source": [
    "# 확인할 변수\n",
    "ROOTPATH = \"./문화유산 이미지 자료\"\n",
    "SUBPATH = \"imageaugement\"\n",
    "MAXLEN = 5 # 이미지별로 추가하려는 장수\n",
    "save_to_dir=\"./target\""
   ]
  },
  {
   "cell_type": "code",
   "execution_count": 5,
   "id": "f4d39b92-94b4-453e-b4b4-3c40461e4dad",
   "metadata": {},
   "outputs": [],
   "source": [
    "if not os.path.exists(save_to_dir):\n",
    "    os.makedirs(save_to_dir)"
   ]
  },
  {
   "cell_type": "code",
   "execution_count": 6,
   "id": "3469e702-7889-4820-a0f6-8a74798a1752",
   "metadata": {},
   "outputs": [],
   "source": [
    "targetFolder = os.path.join(ROOTPATH, SUBPATH)"
   ]
  },
  {
   "cell_type": "code",
   "execution_count": 7,
   "id": "25e8e188-e7dd-4773-9610-a9af4daafd24",
   "metadata": {},
   "outputs": [],
   "source": [
    "searchPattern = \"*.jpg\"\n",
    "# 파일존재 경로로 이동\n",
    "targetPattern = os.path.join(ROOTPATH,SUBPATH,searchPattern)"
   ]
  },
  {
   "cell_type": "code",
   "execution_count": 8,
   "id": "d9d53aff-73bc-4168-849f-5763ea44a643",
   "metadata": {},
   "outputs": [],
   "source": [
    "# 파일경로 저장\n",
    "targetList = glob(targetPattern)"
   ]
  },
  {
   "cell_type": "code",
   "execution_count": null,
   "id": "445c8335-59b5-4222-9a47-c40d3cb12274",
   "metadata": {},
   "outputs": [
    {
     "name": "stderr",
     "output_type": "stream",
     "text": [
      "C:\\Users\\kopo\\anaconda3\\lib\\site-packages\\keras_preprocessing\\image\\image_data_generator.py:720: UserWarning: This ImageDataGenerator specifies `featurewise_center`, but it hasn't been fit on any training data. Fit it first by calling `.fit(numpy_data)`.\n",
      "  warnings.warn('This ImageDataGenerator specifies '\n",
      "C:\\Users\\kopo\\anaconda3\\lib\\site-packages\\keras_preprocessing\\image\\image_data_generator.py:728: UserWarning: This ImageDataGenerator specifies `featurewise_std_normalization`, but it hasn't been fit on any training data. Fit it first by calling `.fit(numpy_data)`.\n",
      "  warnings.warn('This ImageDataGenerator specifies '\n"
     ]
    }
   ],
   "source": [
    "for i in range(0, len(targetList)):\n",
    "    try:\n",
    "        imgFullPath = targetList[i]\n",
    "        img = load_img(imgFullPath)  # PIL 이미지\n",
    "        x = img_to_array(img)  # (3, 150, 150) 크기의 NumPy 배열\n",
    "        x = x.reshape((1,) + x.shape)  # (1, 3, x, y) 크기의 NumPy 배열\n",
    "\n",
    "        # 이미지 저장\n",
    "        i = 0\n",
    "        for batch in datagen.flow(x, batch_size=1,\n",
    "                                  save_to_dir=\"./target\", save_prefix=\"CVT\", \n",
    "                                  save_format=\"jpeg\"):\n",
    "            i = i+1\n",
    "            if i > MAXLEN:\n",
    "                break  # 이미지 20장을 생성하고 마칩니다\n",
    "    except Exception as e:\n",
    "        print(e)"
   ]
  }
 ],
 "metadata": {
  "kernelspec": {
   "display_name": "Python 3 (ipykernel)",
   "language": "python",
   "name": "python3"
  },
  "language_info": {
   "codemirror_mode": {
    "name": "ipython",
    "version": 3
   },
   "file_extension": ".py",
   "mimetype": "text/x-python",
   "name": "python",
   "nbconvert_exporter": "python",
   "pygments_lexer": "ipython3",
   "version": "3.9.7"
  }
 },
 "nbformat": 4,
 "nbformat_minor": 5
}
